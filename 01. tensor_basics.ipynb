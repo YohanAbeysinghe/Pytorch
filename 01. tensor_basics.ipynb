{
 "cells": [
  {
   "cell_type": "markdown",
   "metadata": {},
   "source": [
    "Everything in pytorch is based on Tensor operations. A tensor can have different dimensions, so it can be 1d, 2d, or even 3d and higher"
   ]
  },
  {
   "cell_type": "code",
   "execution_count": 2,
   "metadata": {},
   "outputs": [],
   "source": [
    "import torch"
   ]
  },
  {
   "cell_type": "markdown",
   "metadata": {},
   "source": [
    "## 1. Creating a Tensor"
   ]
  },
  {
   "cell_type": "markdown",
   "metadata": {},
   "source": [
    "torch.empty(size) creates a tensor of given size."
   ]
  },
  {
   "cell_type": "code",
   "execution_count": 2,
   "metadata": {},
   "outputs": [
    {
     "name": "stdout",
     "output_type": "stream",
     "text": [
      "tensor([0.])\n",
      "tensor([0., 0., 0.])\n",
      "tensor([[0., 0., 0.],\n",
      "        [0., 0., 0.]])\n",
      "tensor([[[0., 0., 0.],\n",
      "         [0., 0., 0.]],\n",
      "\n",
      "        [[0., 0., 0.],\n",
      "         [0., 0., 0.]]])\n"
     ]
    }
   ],
   "source": [
    "# torch.empty(size): uninitiallized\n",
    "x = torch.empty(1) # scalar\n",
    "print(x)\n",
    "x = torch.empty(3) # vector, 1D\n",
    "print(x)\n",
    "x = torch.empty(2,3) # matrix, 2D\n",
    "print(x)\n",
    "x = torch.empty(2,2,3) # tensor, 3 dimensions\n",
    "#x = torch.empty(2,2,2,3) # tensor, 4 dimensions\n",
    "print(x)"
   ]
  },
  {
   "cell_type": "markdown",
   "metadata": {},
   "source": [
    "torch.rand(size) creates a tensor of given size with random numbers between [0, 1]  \n",
    "\n",
    "randn generates numbers from a normal distribution with a mean of 0 and a standard deviation of 1, while `rand` generates numbers from a uniform distribution between 0 and 1"
   ]
  },
  {
   "cell_type": "code",
   "execution_count": 4,
   "metadata": {},
   "outputs": [
    {
     "name": "stdout",
     "output_type": "stream",
     "text": [
      "tensor([[[0.4914, 0.7226, 0.6093],\n",
      "         [0.8039, 0.1827, 0.9185],\n",
      "         [0.7343, 0.3950, 0.4696]],\n",
      "\n",
      "        [[0.9430, 0.1709, 0.3336],\n",
      "         [0.1067, 0.2452, 0.6319],\n",
      "         [0.1224, 0.0176, 0.4045]]])\n",
      "tensor([[[ 0.4042,  2.0644, -0.6347],\n",
      "         [-0.4724, -0.8734,  0.7356],\n",
      "         [-0.4951, -0.8558, -0.2297]],\n",
      "\n",
      "        [[-0.2834,  0.8381, -0.7173],\n",
      "         [ 0.3064, -0.2263, -0.3621],\n",
      "         [ 0.9541, -0.1379,  0.3192]]])\n"
     ]
    }
   ],
   "source": [
    "x = torch.rand(2, 3, 3)\n",
    "print(x)\n",
    "x = torch.randn(2, 3, 3)\n",
    "print(x)"
   ]
  },
  {
   "cell_type": "markdown",
   "metadata": {},
   "source": [
    "torch.ones() or torch.zeros() create tensors containing all zeros or ones."
   ]
  },
  {
   "cell_type": "code",
   "execution_count": 4,
   "metadata": {},
   "outputs": [
    {
     "name": "stdout",
     "output_type": "stream",
     "text": [
      "tensor([[[1., 1., 1.],\n",
      "         [1., 1., 1.],\n",
      "         [1., 1., 1.]],\n",
      "\n",
      "        [[1., 1., 1.],\n",
      "         [1., 1., 1.],\n",
      "         [1., 1., 1.]]])\n",
      "tensor([[[0., 0., 0.],\n",
      "         [0., 0., 0.],\n",
      "         [0., 0., 0.]],\n",
      "\n",
      "        [[0., 0., 0.],\n",
      "         [0., 0., 0.],\n",
      "         [0., 0., 0.]]])\n"
     ]
    }
   ],
   "source": [
    "x = torch.ones(2, 3, 3)\n",
    "print(x)\n",
    "x = torch.zeros(2, 3, 3)\n",
    "print(x)"
   ]
  },
  {
   "cell_type": "markdown",
   "metadata": {},
   "source": [
    "specify type of values contained in a tensor using dtype=torch.int. float32 is the default"
   ]
  },
  {
   "cell_type": "code",
   "execution_count": 5,
   "metadata": {},
   "outputs": [
    {
     "name": "stdout",
     "output_type": "stream",
     "text": [
      "tensor([[0, 0, 0],\n",
      "        [0, 0, 0],\n",
      "        [0, 0, 0],\n",
      "        [0, 0, 0]], dtype=torch.int32)\n",
      "torch.Size([4, 3])\n",
      "torch.int32\n",
      "tensor([[0., 0., 0.],\n",
      "        [0., 0., 0.],\n",
      "        [0., 0., 0.],\n",
      "        [0., 0., 0.]], dtype=torch.float16)\n",
      "torch.Size([4, 3])\n",
      "torch.float16\n"
     ]
    }
   ],
   "source": [
    "x = torch.empty(4, 3, dtype=torch.int)\n",
    "print(x)\n",
    "\n",
    "# check size\n",
    "print(x.size())\n",
    "\n",
    "# check data type\n",
    "print(x.dtype)\n",
    "\n",
    "\n",
    "\n",
    "x = torch.empty(4, 3, dtype=torch.float16)\n",
    "print(x)\n",
    "\n",
    "# check size\n",
    "print(x.size())\n",
    "\n",
    "# check data type\n",
    "print(x.dtype)"
   ]
  },
  {
   "cell_type": "markdown",
   "metadata": {},
   "source": [
    "## 2. requires_grad argument"
   ]
  },
  {
   "cell_type": "markdown",
   "metadata": {},
   "source": [
    "This will tell pytorch that it will need to calculate the gradients for this tensor later in your optimization steps  \n",
    "i.e. this is a variable in your model that you want to optimize"
   ]
  },
  {
   "cell_type": "code",
   "execution_count": 6,
   "metadata": {},
   "outputs": [
    {
     "name": "stdout",
     "output_type": "stream",
     "text": [
      "torch.Size([2])\n"
     ]
    }
   ],
   "source": [
    "# construct from data\n",
    "x = torch.tensor([5.5, 3])\n",
    "print(x.size())\n",
    "\n",
    "x = torch.tensor([5.5, 3], requires_grad=True)"
   ]
  },
  {
   "cell_type": "markdown",
   "metadata": {},
   "source": [
    "## 3. Addition, Substraction, Multiplication"
   ]
  },
  {
   "cell_type": "markdown",
   "metadata": {},
   "source": [
    "### Addition"
   ]
  },
  {
   "cell_type": "code",
   "execution_count": 7,
   "metadata": {},
   "outputs": [
    {
     "name": "stdout",
     "output_type": "stream",
     "text": [
      "tensor([[0.8744, 0.4369],\n",
      "        [0.7998, 0.5214]])\n",
      "tensor([[0.4430, 0.0133],\n",
      "        [0.2547, 0.7677]])\n",
      "tensor([[1.3174, 0.4502],\n",
      "        [1.0545, 1.2891]])\n",
      "tensor([[1.3174, 0.4502],\n",
      "        [1.0545, 1.2891]])\n"
     ]
    }
   ],
   "source": [
    "x = torch.rand(2,2)\n",
    "y = torch.rand(2,2)\n",
    "print (x)\n",
    "print (y)\n",
    "\n",
    "#z = x + y \n",
    "z = torch.add(x,y) \n",
    "print(z)\n",
    "\n",
    "y.add_(x)   #In place addition operation\n",
    "print(y)"
   ]
  },
  {
   "cell_type": "markdown",
   "metadata": {},
   "source": [
    "### Substraction"
   ]
  },
  {
   "cell_type": "code",
   "execution_count": 8,
   "metadata": {},
   "outputs": [
    {
     "name": "stdout",
     "output_type": "stream",
     "text": [
      "tensor([[0.3152, 0.3095],\n",
      "        [0.9714, 0.0377]])\n",
      "tensor([[0.4810, 0.8729],\n",
      "        [0.6769, 0.1362]])\n",
      "tensor([[-0.1658, -0.5634],\n",
      "        [ 0.2945, -0.0985]])\n",
      "tensor([[ 0.1658,  0.5634],\n",
      "        [-0.2945,  0.0985]])\n"
     ]
    }
   ],
   "source": [
    "x = torch.rand(2,2)\n",
    "y = torch.rand(2,2)\n",
    "print (x)\n",
    "print (y)\n",
    "\n",
    "#z = x + y \n",
    "z = torch.subtract(x,y) \n",
    "print(z)\n",
    "\n",
    "y.subtract_(x)   #In place addition operation\n",
    "print(y)"
   ]
  },
  {
   "cell_type": "markdown",
   "metadata": {},
   "source": [
    "### Multiply"
   ]
  },
  {
   "cell_type": "code",
   "execution_count": 9,
   "metadata": {},
   "outputs": [
    {
     "name": "stdout",
     "output_type": "stream",
     "text": [
      "tensor([[0.1793, 0.2177],\n",
      "        [0.0040, 0.9615]])\n",
      "tensor([[0.0665, 0.9014],\n",
      "        [0.9907, 0.8887]])\n",
      "tensor([[0.0119, 0.1963],\n",
      "        [0.0040, 0.8545]])\n",
      "tensor([[0.0119, 0.1963],\n",
      "        [0.0040, 0.8545]])\n"
     ]
    }
   ],
   "source": [
    "x = torch.rand(2,2)\n",
    "y = torch.rand(2,2)\n",
    "print (x)\n",
    "print (y)\n",
    "\n",
    "#z = x + y \n",
    "z = torch.multiply(x,y) \n",
    "print(z)\n",
    "\n",
    "y.multiply_(x)   #In place addition operation\n",
    "print(y)"
   ]
  },
  {
   "cell_type": "markdown",
   "metadata": {},
   "source": [
    "## 4. Slicing Operation on Tensors"
   ]
  },
  {
   "cell_type": "code",
   "execution_count": 10,
   "metadata": {},
   "outputs": [
    {
     "name": "stdout",
     "output_type": "stream",
     "text": [
      "tensor([[0.5960, 0.0988, 0.7125],\n",
      "        [0.9343, 0.2322, 0.4439],\n",
      "        [0.9782, 0.2972, 0.2267],\n",
      "        [0.7900, 0.1999, 0.7970],\n",
      "        [0.9261, 0.5843, 0.2100]])\n",
      "tensor([0.5960, 0.9343, 0.9782, 0.7900, 0.9261])\n",
      "tensor([0.9343, 0.2322, 0.4439])\n",
      "tensor(0.2322)\n"
     ]
    }
   ],
   "source": [
    "x = torch.rand(5,3)\n",
    "print(x)\n",
    "\n",
    "print(x[:, 0]) # all rows, column 0\n",
    "print(x[1, :]) # row 1, all columns\n",
    "print(x[1,1]) # element at 1, 1"
   ]
  },
  {
   "cell_type": "markdown",
   "metadata": {},
   "source": [
    "Get the actual value if only 1 element in your tensor using *.item()* command."
   ]
  },
  {
   "cell_type": "code",
   "execution_count": 11,
   "metadata": {},
   "outputs": [
    {
     "name": "stdout",
     "output_type": "stream",
     "text": [
      "0.2322278618812561\n"
     ]
    }
   ],
   "source": [
    "print(x[1,1].item())"
   ]
  },
  {
   "cell_type": "markdown",
   "metadata": {},
   "source": [
    "## 5. Reshaping PyTorch Tensors"
   ]
  },
  {
   "cell_type": "markdown",
   "metadata": {},
   "source": [
    "torch.view() can be used for reshaping."
   ]
  },
  {
   "cell_type": "code",
   "execution_count": 12,
   "metadata": {},
   "outputs": [
    {
     "name": "stdout",
     "output_type": "stream",
     "text": [
      "tensor([[0.3601, 0.9631, 0.5724, 0.2088],\n",
      "        [0.2896, 0.0957, 0.5264, 0.4370],\n",
      "        [0.0451, 0.6615, 0.2996, 0.9000],\n",
      "        [0.5281, 0.3114, 0.9373, 0.1948]])\n",
      "torch.Size([8, 2])\n",
      "torch.Size([16])\n"
     ]
    }
   ],
   "source": [
    "x = torch.rand(4,4)\n",
    "print(x)\n",
    "y = x.view(8,2)\n",
    "print(y.size())\n",
    "y = x.view(16)\n",
    "print(y.size())"
   ]
  },
  {
   "cell_type": "code",
   "execution_count": 13,
   "metadata": {},
   "outputs": [
    {
     "name": "stdout",
     "output_type": "stream",
     "text": [
      "torch.Size([2, 8])\n"
     ]
    }
   ],
   "source": [
    "y = x.view(-1,8)    #if -1 pytorch will automatically determine the necessary size\n",
    "print(y.size())"
   ]
  },
  {
   "cell_type": "markdown",
   "metadata": {},
   "source": [
    "## 6. Torch Tensor to Numpy Array"
   ]
  },
  {
   "cell_type": "markdown",
   "metadata": {},
   "source": [
    "b = a.numpy() will convert torch tensor a, to numpy array b"
   ]
  },
  {
   "cell_type": "code",
   "execution_count": 14,
   "metadata": {},
   "outputs": [
    {
     "name": "stdout",
     "output_type": "stream",
     "text": [
      "<class 'torch.Tensor'>\n",
      "tensor([1., 1., 1., 1., 1.])\n",
      "<class 'numpy.ndarray'>\n",
      "[1. 1. 1. 1. 1.]\n"
     ]
    }
   ],
   "source": [
    "import numpy as np\n",
    "\n",
    "a = torch.ones(5)\n",
    "print(type(a))\n",
    "print(a)\n",
    "\n",
    "b = a.numpy()\n",
    "\n",
    "print(type(b))\n",
    "print(b)"
   ]
  },
  {
   "cell_type": "markdown",
   "metadata": {},
   "source": [
    "Carful: If the Tensor is on the CPU (not the GPU), both objects will share the same memory location, so changing one will also change the other"
   ]
  },
  {
   "cell_type": "code",
   "execution_count": 15,
   "metadata": {},
   "outputs": [
    {
     "name": "stdout",
     "output_type": "stream",
     "text": [
      "tensor([2., 2., 2., 2., 2.])\n",
      "[2. 2. 2. 2. 2.]\n"
     ]
    }
   ],
   "source": [
    "a.add_(1)\n",
    "print(a)\n",
    "print(b)"
   ]
  },
  {
   "cell_type": "markdown",
   "metadata": {},
   "source": [
    "b = torch.from_numpy(a) converts a numpy array a, to torch tensor b."
   ]
  },
  {
   "cell_type": "code",
   "execution_count": 16,
   "metadata": {},
   "outputs": [
    {
     "name": "stdout",
     "output_type": "stream",
     "text": [
      "[1. 1. 1. 1. 1.]\n",
      "<class 'numpy.ndarray'>\n",
      "tensor([1., 1., 1., 1., 1.], dtype=torch.float64)\n",
      "<class 'torch.Tensor'>\n"
     ]
    }
   ],
   "source": [
    "a = np.ones(5)\n",
    "print(a)\n",
    "print(type(a))\n",
    "\n",
    "b = torch.from_numpy(a)\n",
    "\n",
    "print(b)\n",
    "print(type(b))"
   ]
  },
  {
   "cell_type": "markdown",
   "metadata": {},
   "source": [
    "Carful: If the Tensor is on the CPU (not the GPU), both objects will share the same memory location, so changing one will also change the other"
   ]
  },
  {
   "cell_type": "code",
   "execution_count": 17,
   "metadata": {},
   "outputs": [
    {
     "name": "stdout",
     "output_type": "stream",
     "text": [
      "[2. 2. 2. 2. 2.]\n",
      "tensor([2., 2., 2., 2., 2.], dtype=torch.float64)\n"
     ]
    }
   ],
   "source": [
    "a += 1\n",
    "print(a)\n",
    "print(b)"
   ]
  },
  {
   "cell_type": "markdown",
   "metadata": {},
   "source": [
    "## 7. Sending a Torch Tensor to GPU and Moving a Tensor back to CPU"
   ]
  },
  {
   "cell_type": "markdown",
   "metadata": {},
   "source": [
    "Works only for Nvidea GPUs"
   ]
  },
  {
   "cell_type": "code",
   "execution_count": 18,
   "metadata": {},
   "outputs": [],
   "source": [
    "if torch.cuda.is_available():\n",
    "    device = torch.device(\"cuda\")\n",
    "\n",
    "    x = torch.ones(5, device=device)    #Creating a tensor on GPU\n",
    "    print(x)\n",
    "    y = torch.ones_like(x)  #This creates a tensor of shape like x.\n",
    "    y = y.to(device)        #Creating a tensor and moving to GPU later.\n",
    "    print(y)\n",
    "    z = x + y   #Will be performed on GPU\n",
    "    print(z)\n",
    "    #z.numpy() #Should give an error since numpy cannot handle GPU sensors.\n",
    "    z = z.to(\"cpu\")\n"
   ]
  },
  {
   "cell_type": "markdown",
   "metadata": {},
   "source": [
    "Converted to Apple Metal Performance Shredder"
   ]
  },
  {
   "cell_type": "code",
   "execution_count": 19,
   "metadata": {},
   "outputs": [
    {
     "name": "stdout",
     "output_type": "stream",
     "text": [
      "tensor([1., 1., 1., 1., 1.], device='mps:0')\n",
      "tensor([1., 1., 1., 1., 1.], device='mps:0')\n",
      "tensor([2., 2., 2., 2., 2.], device='mps:0')\n"
     ]
    }
   ],
   "source": [
    "if torch.backends.mps.is_available():\n",
    "    device = torch.device(\"mps\")\n",
    "    \n",
    "    x = torch.ones(5, device=device)    #Creating a tensor on GPU\n",
    "    print(x)\n",
    "    y = torch.ones_like(x)  #This creates a tensor of shape like x.\n",
    "    y = y.to(device)        #Creating a tensor and moving to GPU later.\n",
    "    print(y)\n",
    "    z = x + y   #Will be performed on GPU\n",
    "    print(z)\n",
    "    #.numpy() #Should give an error since numpy cannot handle GPU sensors.\n",
    "    z = z.to(\"cpu\")"
   ]
  },
  {
   "cell_type": "markdown",
   "metadata": {},
   "source": [
    "TypeError: can't convert mps:0 device type tensor to numpy. Use Tensor.cpu() to copy the tensor to host memory first.\n",
    "\n",
    "This error will arise if you try to convert an \"mps\" tensor to numpy."
   ]
  }
 ],
 "metadata": {
  "kernelspec": {
   "display_name": "torch",
   "language": "python",
   "name": "python3"
  },
  "language_info": {
   "codemirror_mode": {
    "name": "ipython",
    "version": 3
   },
   "file_extension": ".py",
   "mimetype": "text/x-python",
   "name": "python",
   "nbconvert_exporter": "python",
   "pygments_lexer": "ipython3",
   "version": "3.9.15"
  }
 },
 "nbformat": 4,
 "nbformat_minor": 2
}
