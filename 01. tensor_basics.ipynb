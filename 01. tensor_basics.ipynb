{
 "cells": [
  {
   "cell_type": "code",
   "execution_count": 90,
   "metadata": {},
   "outputs": [],
   "source": [
    "import torch"
   ]
  },
  {
   "cell_type": "code",
   "execution_count": 91,
   "metadata": {},
   "outputs": [
    {
     "name": "stdout",
     "output_type": "stream",
     "text": [
      "tensor([[[0., 0., 0.],\n",
      "         [0., 0., 0.],\n",
      "         [0., 0., 0.]],\n",
      "\n",
      "        [[0., 0., 0.],\n",
      "         [0., 0., 0.],\n",
      "         [0., 0., 0.]]])\n"
     ]
    }
   ],
   "source": [
    "x = torch.empty(2, 3, 3)\n",
    "print(x)"
   ]
  },
  {
   "cell_type": "code",
   "execution_count": 92,
   "metadata": {},
   "outputs": [
    {
     "name": "stdout",
     "output_type": "stream",
     "text": [
      "tensor([[[0.2794, 0.1432, 0.8981],\n",
      "         [0.1936, 0.2628, 0.7361],\n",
      "         [0.1670, 0.5856, 0.1542]],\n",
      "\n",
      "        [[0.3610, 0.0782, 0.9989],\n",
      "         [0.8797, 0.3575, 0.5151],\n",
      "         [0.0964, 0.8094, 0.3173]]])\n"
     ]
    }
   ],
   "source": [
    "x = torch.rand(2, 3, 3)\n",
    "print(x)"
   ]
  },
  {
   "cell_type": "code",
   "execution_count": 93,
   "metadata": {},
   "outputs": [
    {
     "name": "stdout",
     "output_type": "stream",
     "text": [
      "tensor([[[1., 1., 1.],\n",
      "         [1., 1., 1.],\n",
      "         [1., 1., 1.]],\n",
      "\n",
      "        [[1., 1., 1.],\n",
      "         [1., 1., 1.],\n",
      "         [1., 1., 1.]]])\n"
     ]
    }
   ],
   "source": [
    "x = torch.ones(2, 3, 3)\n",
    "print(x)"
   ]
  },
  {
   "cell_type": "code",
   "execution_count": 94,
   "metadata": {},
   "outputs": [
    {
     "name": "stdout",
     "output_type": "stream",
     "text": [
      "tensor([[[0., 0., 0.],\n",
      "         [0., 0., 0.],\n",
      "         [0., 0., 0.]],\n",
      "\n",
      "        [[0., 0., 0.],\n",
      "         [0., 0., 0.],\n",
      "         [0., 0., 0.]]])\n"
     ]
    }
   ],
   "source": [
    "x = torch.zeros(2, 3, 3)\n",
    "print(x)"
   ]
  },
  {
   "cell_type": "code",
   "execution_count": 95,
   "metadata": {},
   "outputs": [
    {
     "name": "stdout",
     "output_type": "stream",
     "text": [
      "tensor([[[0, 0, 0],\n",
      "         [0, 0, 0],\n",
      "         [0, 0, 0]],\n",
      "\n",
      "        [[0, 0, 0],\n",
      "         [0, 0, 0],\n",
      "         [0, 0, 0]]], dtype=torch.int32)\n"
     ]
    }
   ],
   "source": [
    "x = torch.empty(2, 3, 3, dtype=torch.int)\n",
    "print(x)"
   ]
  },
  {
   "cell_type": "code",
   "execution_count": 96,
   "metadata": {},
   "outputs": [
    {
     "name": "stdout",
     "output_type": "stream",
     "text": [
      "tensor([[[0., 0., 0.],\n",
      "         [0., 0., 0.],\n",
      "         [0., 0., 0.]],\n",
      "\n",
      "        [[0., 0., 0.],\n",
      "         [0., 0., 0.],\n",
      "         [0., 0., 0.]]], dtype=torch.float16)\n"
     ]
    }
   ],
   "source": [
    "x = torch.empty(2, 3, 3, dtype=torch.float16)\n",
    "print(x)"
   ]
  },
  {
   "cell_type": "code",
   "execution_count": 97,
   "metadata": {},
   "outputs": [
    {
     "name": "stdout",
     "output_type": "stream",
     "text": [
      "tensor([[0.9889, 0.6158],\n",
      "        [0.5699, 0.1972]])\n",
      "tensor([[0.0543, 0.0201],\n",
      "        [0.6193, 0.3777]])\n",
      "tensor([[0.0537, 0.0124],\n",
      "        [0.3530, 0.0745]])\n",
      "tensor([[ 0.9347,  0.5957],\n",
      "        [-0.0494, -0.1805]])\n",
      "tensor([[1.0432, 0.6359],\n",
      "        [1.1893, 0.5749]])\n"
     ]
    }
   ],
   "source": [
    "import torch\n",
    "x = torch. rand (2,2)\n",
    "y = torch. rand (2,2)\n",
    "print (x)\n",
    "print (y)\n",
    "\n",
    "#z = x + y \n",
    "z = torch.add(x,y) \n",
    "# w = x-y\n",
    "w = torch.sub(x,y)\n",
    "v = x*y\n",
    "\n",
    "print(v)\n",
    "print(w)\n",
    "print(z)"
   ]
  },
  {
   "cell_type": "code",
   "execution_count": 98,
   "metadata": {},
   "outputs": [
    {
     "data": {
      "text/plain": [
       "tensor([[0.0537, 0.0124],\n",
       "        [0.3530, 0.0745]])"
      ]
     },
     "execution_count": 98,
     "metadata": {},
     "output_type": "execute_result"
    }
   ],
   "source": [
    "y.multiply_(x)"
   ]
  },
  {
   "cell_type": "code",
   "execution_count": 99,
   "metadata": {},
   "outputs": [
    {
     "data": {
      "text/plain": [
       "tensor([[1.0426, 0.6282],\n",
       "        [0.9229, 0.2717]])"
      ]
     },
     "execution_count": 99,
     "metadata": {},
     "output_type": "execute_result"
    }
   ],
   "source": [
    "y.add_(x)"
   ]
  },
  {
   "cell_type": "code",
   "execution_count": 100,
   "metadata": {},
   "outputs": [
    {
     "name": "stdout",
     "output_type": "stream",
     "text": [
      "tensor([[1.0311, 0.3868],\n",
      "        [0.5260, 0.0536]])\n"
     ]
    }
   ],
   "source": [
    "print(torch.multiply(x,y))"
   ]
  },
  {
   "cell_type": "code",
   "execution_count": 101,
   "metadata": {},
   "outputs": [
    {
     "name": "stdout",
     "output_type": "stream",
     "text": [
      "tensor([[0.4599, 0.2260, 0.9732],\n",
      "        [0.7438, 0.1627, 0.5062],\n",
      "        [0.6226, 0.3522, 0.3826],\n",
      "        [0.1716, 0.3652, 0.0201],\n",
      "        [0.7665, 0.8484, 0.2304]])\n"
     ]
    }
   ],
   "source": [
    "x = torch.rand(5,3)\n",
    "print(x)"
   ]
  },
  {
   "cell_type": "code",
   "execution_count": 102,
   "metadata": {},
   "outputs": [
    {
     "name": "stdout",
     "output_type": "stream",
     "text": [
      "tensor([0.4599, 0.7438, 0.6226, 0.1716, 0.7665])\n",
      "tensor([0.7438, 0.1627, 0.5062])\n",
      "0.16271448135375977\n"
     ]
    }
   ],
   "source": [
    "print(x[:, 0])\n",
    "print(x[1, :])\n",
    "print(x[1, 1].item()) "
   ]
  },
  {
   "cell_type": "code",
   "execution_count": 103,
   "metadata": {},
   "outputs": [
    {
     "name": "stdout",
     "output_type": "stream",
     "text": [
      "tensor([[0.0744, 0.2060, 0.6489, 0.0111],\n",
      "        [0.5858, 0.2178, 0.6520, 0.1021],\n",
      "        [0.5471, 0.8060, 0.6918, 0.0337],\n",
      "        [0.1045, 0.0017, 0.3356, 0.2375]])\n",
      "tensor([[0.0744, 0.2060],\n",
      "        [0.6489, 0.0111],\n",
      "        [0.5858, 0.2178],\n",
      "        [0.6520, 0.1021],\n",
      "        [0.5471, 0.8060],\n",
      "        [0.6918, 0.0337],\n",
      "        [0.1045, 0.0017],\n",
      "        [0.3356, 0.2375]])\n"
     ]
    }
   ],
   "source": [
    "x = torch.rand(4,4)\n",
    "print(x)\n",
    "y = x.view(8,2)\n",
    "print(y)"
   ]
  },
  {
   "cell_type": "code",
   "execution_count": 104,
   "metadata": {},
   "outputs": [
    {
     "name": "stdout",
     "output_type": "stream",
     "text": [
      "tensor([0.0744, 0.2060, 0.6489, 0.0111, 0.5858, 0.2178, 0.6520, 0.1021, 0.5471,\n",
      "        0.8060, 0.6918, 0.0337, 0.1045, 0.0017, 0.3356, 0.2375])\n",
      "torch.Size([16])\n"
     ]
    }
   ],
   "source": [
    "y = x.view(16)\n",
    "print(y)\n",
    "print(y.size())"
   ]
  },
  {
   "cell_type": "code",
   "execution_count": 105,
   "metadata": {},
   "outputs": [
    {
     "name": "stdout",
     "output_type": "stream",
     "text": [
      "tensor([[0.0744, 0.2060, 0.6489, 0.0111, 0.5858, 0.2178, 0.6520, 0.1021],\n",
      "        [0.5471, 0.8060, 0.6918, 0.0337, 0.1045, 0.0017, 0.3356, 0.2375]])\n",
      "torch.Size([2, 8])\n"
     ]
    }
   ],
   "source": [
    "y = x.view(-1,8)\n",
    "print(y)\n",
    "print(y.size())"
   ]
  },
  {
   "cell_type": "code",
   "execution_count": 106,
   "metadata": {},
   "outputs": [
    {
     "name": "stdout",
     "output_type": "stream",
     "text": [
      "tensor([1., 1., 1., 1., 1.])\n",
      "<class 'numpy.ndarray'>\n"
     ]
    }
   ],
   "source": [
    "import numpy as np\n",
    "\n",
    "a = torch.ones(5)\n",
    "print(a)\n",
    "b = a.numpy()\n",
    "print(type(b))\n"
   ]
  },
  {
   "cell_type": "code",
   "execution_count": 107,
   "metadata": {},
   "outputs": [
    {
     "name": "stdout",
     "output_type": "stream",
     "text": [
      "tensor([2., 2., 2., 2., 2.])\n",
      "[2. 2. 2. 2. 2.]\n"
     ]
    }
   ],
   "source": [
    "a.add_(1)\n",
    "print(a)\n",
    "print(b)"
   ]
  },
  {
   "cell_type": "code",
   "execution_count": 109,
   "metadata": {},
   "outputs": [
    {
     "name": "stdout",
     "output_type": "stream",
     "text": [
      "[1. 1. 1. 1. 1.]\n",
      "tensor([1., 1., 1., 1., 1.], dtype=torch.float64)\n"
     ]
    }
   ],
   "source": [
    "a = np.ones(5)\n",
    "b = torch.from_numpy(a)\n",
    "print(a)\n",
    "print(b)"
   ]
  },
  {
   "cell_type": "code",
   "execution_count": 110,
   "metadata": {},
   "outputs": [
    {
     "name": "stdout",
     "output_type": "stream",
     "text": [
      "[2. 2. 2. 2. 2.]\n",
      "tensor([2., 2., 2., 2., 2.], dtype=torch.float64)\n"
     ]
    }
   ],
   "source": [
    "a += 1\n",
    "print(a)\n",
    "print(b)"
   ]
  },
  {
   "cell_type": "code",
   "execution_count": 113,
   "metadata": {},
   "outputs": [
    {
     "data": {
      "text/plain": [
       "False"
      ]
     },
     "execution_count": 113,
     "metadata": {},
     "output_type": "execute_result"
    }
   ],
   "source": [
    "torch.cuda.is_available()"
   ]
  },
  {
   "cell_type": "code",
   "execution_count": 125,
   "metadata": {},
   "outputs": [],
   "source": [
    "if torch.cuda.is_available():\n",
    "    device = torch.device(\"cuda\")\n",
    "\n",
    "    x = torch.ones(5, device=device)    #Creating a tensor on GPU\n",
    "    print(x)\n",
    "    y = torch.ones_like(x)  #This creates a tensor of shape like x.\n",
    "    y = y.to(device)        #Creating a tensor and moving to GPU later.\n",
    "    print(y)\n",
    "    z = x + y   #Will be performed on GPU\n",
    "    print(z)\n",
    "    #z.numpy() #Should give an error since numpy cannot handle GPU sensors.\n",
    "    z = z.to(\"cpu\")\n"
   ]
  },
  {
   "cell_type": "code",
   "execution_count": 124,
   "metadata": {},
   "outputs": [
    {
     "name": "stdout",
     "output_type": "stream",
     "text": [
      "tensor([1., 1., 1., 1., 1.], device='mps:0')\n",
      "tensor([1., 1., 1., 1., 1.], device='mps:0')\n",
      "tensor([2., 2., 2., 2., 2.], device='mps:0')\n"
     ]
    }
   ],
   "source": [
    "if torch.backends.mps.is_available():\n",
    "    device = torch.device(\"mps\")\n",
    "    \n",
    "    x = torch.ones(5, device=device)    #Creating a tensor on GPU\n",
    "    print(x)\n",
    "    y = torch.ones_like(x)  #This creates a tensor of shape like x.\n",
    "    y = y.to(device)        #Creating a tensor and moving to GPU later.\n",
    "    print(y)\n",
    "    z = x + y   #Will be performed on GPU\n",
    "    print(z)\n",
    "    #z.numpy() #Should give an error since numpy cannot handle GPU sensors.\n",
    "    z = z.to(\"cpu\")"
   ]
  }
 ],
 "metadata": {
  "kernelspec": {
   "display_name": "torch",
   "language": "python",
   "name": "python3"
  },
  "language_info": {
   "codemirror_mode": {
    "name": "ipython",
    "version": 3
   },
   "file_extension": ".py",
   "mimetype": "text/x-python",
   "name": "python",
   "nbconvert_exporter": "python",
   "pygments_lexer": "ipython3",
   "version": "3.9.15"
  }
 },
 "nbformat": 4,
 "nbformat_minor": 2
}
