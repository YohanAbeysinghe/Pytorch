{
 "cells": [
  {
   "cell_type": "markdown",
   "metadata": {},
   "source": [
    "# 01. Tensor Basics"
   ]
  },
  {
   "cell_type": "markdown",
   "metadata": {},
   "source": [
    "Everything in pytorch is based on Tensor operations. A tensor can have different dimensions, so it can be 1d, 2d, or even 3d and higher"
   ]
  },
  {
   "cell_type": "code",
   "execution_count": null,
   "metadata": {},
   "outputs": [],
   "source": [
    "import torch"
   ]
  },
  {
   "cell_type": "markdown",
   "metadata": {},
   "source": [
    "## 1. Creating a Tensor"
   ]
  },
  {
   "cell_type": "markdown",
   "metadata": {},
   "source": [
    "torch.empty(size) creates a tensor of given size."
   ]
  },
  {
   "cell_type": "code",
   "execution_count": null,
   "metadata": {},
   "outputs": [],
   "source": [
    "# torch.empty(size): uninitiallized\n",
    "x = torch.empty(1) # scalar\n",
    "print(x)\n",
    "x = torch.empty(3) # vector, 1D\n",
    "print(x)\n",
    "x = torch.empty(2,3) # matrix, 2D\n",
    "print(x)\n",
    "x = torch.empty(2,2,3) # tensor, 3 dimensions\n",
    "#x = torch.empty(2,2,2,3) # tensor, 4 dimensions\n",
    "print(x)"
   ]
  },
  {
   "cell_type": "markdown",
   "metadata": {},
   "source": [
    "torch.rand(size) creates a tensor of given size with random numbers between [0, 1]  \n",
    "\n",
    "randn generates numbers from a normal distribution with a mean of 0 and a standard deviation of 1, while `rand` generates numbers from a uniform distribution between 0 and 1"
   ]
  },
  {
   "cell_type": "code",
   "execution_count": null,
   "metadata": {},
   "outputs": [],
   "source": [
    "x = torch.rand(2, 3, 3)\n",
    "print(x)\n",
    "x = torch.randn(2, 3, 3)\n",
    "print(x)"
   ]
  },
  {
   "cell_type": "markdown",
   "metadata": {},
   "source": [
    "torch.ones() or torch.zeros() create tensors containing all zeros or ones."
   ]
  },
  {
   "cell_type": "code",
   "execution_count": null,
   "metadata": {},
   "outputs": [],
   "source": [
    "x = torch.ones(2, 3, 3)\n",
    "print(x)\n",
    "x = torch.zeros(2, 3, 3)\n",
    "print(x)"
   ]
  },
  {
   "cell_type": "markdown",
   "metadata": {},
   "source": [
    "specify type of values contained in a tensor using dtype=torch.int. float32 is the default"
   ]
  },
  {
   "cell_type": "code",
   "execution_count": null,
   "metadata": {},
   "outputs": [],
   "source": [
    "x = torch.empty(4, 3, dtype=torch.int)\n",
    "print(x)\n",
    "\n",
    "# check size\n",
    "print(x.size())\n",
    "\n",
    "# check data type\n",
    "print(x.dtype)\n",
    "\n",
    "\n",
    "\n",
    "x = torch.empty(4, 3, dtype=torch.float16)\n",
    "print(x)\n",
    "\n",
    "# check size\n",
    "print(x.size())\n",
    "\n",
    "# check data type\n",
    "print(x.dtype)"
   ]
  },
  {
   "cell_type": "markdown",
   "metadata": {},
   "source": [
    "## 2. requires_grad argument"
   ]
  },
  {
   "cell_type": "markdown",
   "metadata": {},
   "source": [
    "This will tell pytorch that it will need to calculate the gradients for this tensor later in your optimization steps  \n",
    "i.e. this is a variable in your model that you want to optimize"
   ]
  },
  {
   "cell_type": "code",
   "execution_count": null,
   "metadata": {},
   "outputs": [],
   "source": [
    "# construct from data\n",
    "x = torch.tensor([5.5, 3])\n",
    "print(x.size())\n",
    "\n",
    "x = torch.tensor([5.5, 3], requires_grad=True)"
   ]
  },
  {
   "cell_type": "markdown",
   "metadata": {},
   "source": [
    "## 3. Addition, Substraction, Multiplication"
   ]
  },
  {
   "cell_type": "markdown",
   "metadata": {},
   "source": [
    "### Addition"
   ]
  },
  {
   "cell_type": "code",
   "execution_count": null,
   "metadata": {},
   "outputs": [],
   "source": [
    "x = torch.rand(2,2)\n",
    "y = torch.rand(2,2)\n",
    "print (x)\n",
    "print (y)\n",
    "\n",
    "#z = x + y \n",
    "z = torch.add(x,y) \n",
    "print(z)\n",
    "\n",
    "y.add_(x)   #In place addition operation\n",
    "print(y)"
   ]
  },
  {
   "cell_type": "markdown",
   "metadata": {},
   "source": [
    "### Substraction"
   ]
  },
  {
   "cell_type": "code",
   "execution_count": null,
   "metadata": {},
   "outputs": [],
   "source": [
    "x = torch.rand(2,2)\n",
    "y = torch.rand(2,2)\n",
    "print (x)\n",
    "print (y)\n",
    "\n",
    "#z = x + y \n",
    "z = torch.subtract(x,y) \n",
    "print(z)\n",
    "\n",
    "y.subtract_(x)   #In place addition operation\n",
    "print(y)"
   ]
  },
  {
   "cell_type": "markdown",
   "metadata": {},
   "source": [
    "### Multiply"
   ]
  },
  {
   "cell_type": "code",
   "execution_count": null,
   "metadata": {},
   "outputs": [],
   "source": [
    "x = torch.rand(2,2)\n",
    "y = torch.rand(2,2)\n",
    "print (x)\n",
    "print (y)\n",
    "\n",
    "#z = x + y \n",
    "z = torch.multiply(x,y) \n",
    "print(z)\n",
    "\n",
    "y.multiply_(x)   #In place addition operation\n",
    "print(y)"
   ]
  },
  {
   "cell_type": "markdown",
   "metadata": {},
   "source": [
    "## 4. Slicing Operation on Tensors"
   ]
  },
  {
   "cell_type": "code",
   "execution_count": null,
   "metadata": {},
   "outputs": [],
   "source": [
    "x = torch.rand(5,3)\n",
    "print(x)\n",
    "\n",
    "print(x[:, 0]) # all rows, column 0\n",
    "print(x[1, :]) # row 1, all columns\n",
    "print(x[1,1]) # element at 1, 1"
   ]
  },
  {
   "cell_type": "markdown",
   "metadata": {},
   "source": [
    "Get the actual value if only 1 element in your tensor using *.item()* command."
   ]
  },
  {
   "cell_type": "code",
   "execution_count": null,
   "metadata": {},
   "outputs": [],
   "source": [
    "print(x[1,1].item())"
   ]
  },
  {
   "cell_type": "markdown",
   "metadata": {},
   "source": [
    "## 5. Reshaping PyTorch Tensors"
   ]
  },
  {
   "cell_type": "markdown",
   "metadata": {},
   "source": [
    "torch.view() can be used for reshaping."
   ]
  },
  {
   "cell_type": "code",
   "execution_count": null,
   "metadata": {},
   "outputs": [],
   "source": [
    "x = torch.rand(4,4)\n",
    "print(x)\n",
    "y = x.view(8,2)\n",
    "print(y.size())\n",
    "y = x.view(16)\n",
    "print(y.size())"
   ]
  },
  {
   "cell_type": "code",
   "execution_count": null,
   "metadata": {},
   "outputs": [],
   "source": [
    "y = x.view(-1,8)    #if -1 pytorch will automatically determine the necessary size\n",
    "print(y.size())"
   ]
  },
  {
   "cell_type": "markdown",
   "metadata": {},
   "source": [
    "## 6. Torch Tensor to Numpy Array"
   ]
  },
  {
   "cell_type": "markdown",
   "metadata": {},
   "source": [
    "b = a.numpy() will convert torch tensor a, to numpy array b"
   ]
  },
  {
   "cell_type": "code",
   "execution_count": null,
   "metadata": {},
   "outputs": [],
   "source": [
    "import numpy as np\n",
    "\n",
    "a = torch.ones(5)\n",
    "print(type(a))\n",
    "print(a)\n",
    "\n",
    "b = a.numpy()\n",
    "\n",
    "print(type(b))\n",
    "print(b)"
   ]
  },
  {
   "cell_type": "markdown",
   "metadata": {},
   "source": [
    "Carful: If the Tensor is on the CPU (not the GPU), both objects will share the same memory location, so changing one will also change the other"
   ]
  },
  {
   "cell_type": "code",
   "execution_count": null,
   "metadata": {},
   "outputs": [],
   "source": [
    "a.add_(1)\n",
    "print(a)\n",
    "print(b)"
   ]
  },
  {
   "cell_type": "markdown",
   "metadata": {},
   "source": [
    "b = torch.from_numpy(a) converts a numpy array a, to torch tensor b."
   ]
  },
  {
   "cell_type": "code",
   "execution_count": null,
   "metadata": {},
   "outputs": [],
   "source": [
    "a = np.ones(5)\n",
    "print(a)\n",
    "print(type(a))\n",
    "\n",
    "b = torch.from_numpy(a)\n",
    "\n",
    "print(b)\n",
    "print(type(b))"
   ]
  },
  {
   "cell_type": "markdown",
   "metadata": {},
   "source": [
    "Carful: If the Tensor is on the CPU (not the GPU), both objects will share the same memory location, so changing one will also change the other"
   ]
  },
  {
   "cell_type": "code",
   "execution_count": null,
   "metadata": {},
   "outputs": [],
   "source": [
    "a += 1\n",
    "print(a)\n",
    "print(b)"
   ]
  },
  {
   "cell_type": "markdown",
   "metadata": {},
   "source": [
    "## 7. Sending a Torch Tensor to GPU and Moving a Tensor back to CPU"
   ]
  },
  {
   "cell_type": "markdown",
   "metadata": {},
   "source": [
    "Works only for Nvidea GPUs"
   ]
  },
  {
   "cell_type": "code",
   "execution_count": null,
   "metadata": {},
   "outputs": [],
   "source": [
    "if torch.cuda.is_available():\n",
    "    device = torch.device(\"cuda\")\n",
    "\n",
    "    x = torch.ones(5, device=device)    #Creating a tensor on GPU\n",
    "    print(x)\n",
    "    y = torch.ones_like(x)  #This creates a tensor of shape like x.\n",
    "    y = y.to(device)        #Creating a tensor and moving to GPU later.\n",
    "    print(y)\n",
    "    z = x + y   #Will be performed on GPU\n",
    "    print(z)\n",
    "    #z.numpy() #Should give an error since numpy cannot handle GPU sensors.\n",
    "    z = z.to(\"cpu\")\n"
   ]
  },
  {
   "cell_type": "markdown",
   "metadata": {},
   "source": [
    "Converted to Apple Metal Performance Shredder"
   ]
  },
  {
   "cell_type": "code",
   "execution_count": null,
   "metadata": {},
   "outputs": [],
   "source": [
    "if torch.backends.mps.is_available():\n",
    "    device = torch.device(\"mps\")\n",
    "    \n",
    "    x = torch.ones(5, device=device)    #Creating a tensor on GPU\n",
    "    print(x)\n",
    "    y = torch.ones_like(x)  #This creates a tensor of shape like x.\n",
    "    y = y.to(device)        #Creating a tensor and moving to GPU later.\n",
    "    print(y)\n",
    "    z = x + y   #Will be performed on GPU\n",
    "    print(z)\n",
    "    #.numpy() #Should give an error since numpy cannot handle GPU sensors.\n",
    "    z = z.to(\"cpu\")"
   ]
  },
  {
   "cell_type": "markdown",
   "metadata": {},
   "source": [
    "TypeError: can't convert mps:0 device type tensor to numpy. Use Tensor.cpu() to copy the tensor to host memory first.\n",
    "\n",
    "This error will arise if you try to convert an \"mps\" tensor to numpy."
   ]
  }
 ],
 "metadata": {
  "kernelspec": {
   "display_name": "torch",
   "language": "python",
   "name": "python3"
  },
  "language_info": {
   "codemirror_mode": {
    "name": "ipython",
    "version": 3
   },
   "file_extension": ".py",
   "mimetype": "text/x-python",
   "name": "python",
   "nbconvert_exporter": "python",
   "pygments_lexer": "ipython3",
   "version": "3.9.15"
  }
 },
 "nbformat": 4,
 "nbformat_minor": 2
}
