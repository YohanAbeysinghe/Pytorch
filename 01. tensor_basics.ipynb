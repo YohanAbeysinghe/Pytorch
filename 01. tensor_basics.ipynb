{
 "cells": [
  {
   "cell_type": "markdown",
   "metadata": {},
   "source": [
    "# 01. Tensor Basics"
   ]
  },
  {
   "cell_type": "markdown",
   "metadata": {},
   "source": [
    "Everything in pytorch is based on Tensor operations. A tensor can have different dimensions, so it can be 1d, 2d, or even 3d and higher"
   ]
  },
  {
   "cell_type": "code",
   "execution_count": 1,
   "metadata": {},
   "outputs": [],
   "source": [
    "import torch"
   ]
  },
  {
   "cell_type": "markdown",
   "metadata": {},
   "source": [
    "## 1. Creating a Tensor"
   ]
  },
  {
   "cell_type": "markdown",
   "metadata": {},
   "source": [
    "torch.empty(size) creates a tensor of given size."
   ]
  },
  {
   "cell_type": "code",
   "execution_count": 2,
   "metadata": {},
   "outputs": [
    {
     "name": "stdout",
     "output_type": "stream",
     "text": [
      "tensor([0.])\n",
      "tensor([0., 0., 0.])\n",
      "tensor([[0., 0., 0.],\n",
      "        [0., 0., 0.]])\n",
      "tensor([[[0., 0., 0.],\n",
      "         [0., 0., 0.]],\n",
      "\n",
      "        [[0., 0., 0.],\n",
      "         [0., 0., 0.]]])\n"
     ]
    }
   ],
   "source": [
    "# torch.empty(size): uninitiallized\n",
    "x = torch.empty(1) # scalar\n",
    "print(x)\n",
    "x = torch.empty(3) # vector, 1D\n",
    "print(x)\n",
    "x = torch.empty(2,3) # matrix, 2D\n",
    "print(x)\n",
    "x = torch.empty(2,2,3) # tensor, 3 dimensions\n",
    "#x = torch.empty(2,2,2,3) # tensor, 4 dimensions\n",
    "print(x)"
   ]
  },
  {
   "cell_type": "markdown",
   "metadata": {},
   "source": [
    "torch.rand(size) creates a tensor of given size with random numbers between [0, 1]  \n",
    "\n",
    "randn generates numbers from a normal distribution with a mean of 0 and a standard deviation of 1, while `rand` generates numbers from a uniform distribution between 0 and 1"
   ]
  },
  {
   "cell_type": "code",
   "execution_count": 3,
   "metadata": {},
   "outputs": [
    {
     "name": "stdout",
     "output_type": "stream",
     "text": [
      "tensor([[[0.9137, 0.4864, 0.8796],\n",
      "         [0.0041, 0.3042, 0.8897],\n",
      "         [0.4881, 0.6847, 0.1004]],\n",
      "\n",
      "        [[0.1655, 0.7399, 0.3011],\n",
      "         [0.4482, 0.7912, 0.6165],\n",
      "         [0.3272, 0.4475, 0.8606]]])\n",
      "tensor([[[ 0.6747,  0.3349, -1.2207],\n",
      "         [ 0.3844, -0.4874,  1.1519],\n",
      "         [-1.0025, -0.2822,  0.3198]],\n",
      "\n",
      "        [[-1.5490, -1.5982,  0.3617],\n",
      "         [ 0.9405, -0.3373, -0.8545],\n",
      "         [-1.7060, -0.4762, -0.6453]]])\n"
     ]
    }
   ],
   "source": [
    "x = torch.rand(2, 3, 3)\n",
    "print(x)\n",
    "x = torch.randn(2, 3, 3)\n",
    "print(x)"
   ]
  },
  {
   "cell_type": "markdown",
   "metadata": {},
   "source": [
    "torch.ones() or torch.zeros() create tensors containing all zeros or ones."
   ]
  },
  {
   "cell_type": "code",
   "execution_count": 4,
   "metadata": {},
   "outputs": [
    {
     "name": "stdout",
     "output_type": "stream",
     "text": [
      "tensor([[[1., 1., 1.],\n",
      "         [1., 1., 1.],\n",
      "         [1., 1., 1.]],\n",
      "\n",
      "        [[1., 1., 1.],\n",
      "         [1., 1., 1.],\n",
      "         [1., 1., 1.]]])\n",
      "tensor([[[0., 0., 0.],\n",
      "         [0., 0., 0.],\n",
      "         [0., 0., 0.]],\n",
      "\n",
      "        [[0., 0., 0.],\n",
      "         [0., 0., 0.],\n",
      "         [0., 0., 0.]]])\n"
     ]
    }
   ],
   "source": [
    "x = torch.ones(2, 3, 3)\n",
    "print(x)\n",
    "x = torch.zeros(2, 3, 3)\n",
    "print(x)"
   ]
  },
  {
   "cell_type": "markdown",
   "metadata": {},
   "source": [
    "specify type of values contained in a tensor using dtype=torch.int. float32 is the default"
   ]
  },
  {
   "cell_type": "code",
   "execution_count": 5,
   "metadata": {},
   "outputs": [
    {
     "name": "stdout",
     "output_type": "stream",
     "text": [
      "tensor([[0, 0, 0],\n",
      "        [0, 0, 0],\n",
      "        [0, 0, 0],\n",
      "        [0, 0, 0]], dtype=torch.int32)\n",
      "torch.Size([4, 3])\n",
      "torch.int32\n",
      "tensor([[0., 0., 0.],\n",
      "        [0., 0., 0.],\n",
      "        [0., 0., 0.],\n",
      "        [0., 0., 0.]], dtype=torch.float16)\n",
      "torch.Size([4, 3])\n",
      "torch.float16\n"
     ]
    }
   ],
   "source": [
    "x = torch.empty(4, 3, dtype=torch.int)\n",
    "print(x)\n",
    "\n",
    "# check size\n",
    "print(x.size())\n",
    "\n",
    "# check data type\n",
    "print(x.dtype)\n",
    "\n",
    "\n",
    "\n",
    "x = torch.empty(4, 3, dtype=torch.float16)\n",
    "print(x)\n",
    "\n",
    "# check size\n",
    "print(x.size())\n",
    "\n",
    "# check data type\n",
    "print(x.dtype)"
   ]
  },
  {
   "cell_type": "markdown",
   "metadata": {},
   "source": [
    "## 2. requires_grad argument"
   ]
  },
  {
   "cell_type": "markdown",
   "metadata": {},
   "source": [
    "This will tell pytorch that it will need to calculate the gradients for this tensor later in your optimization steps  \n",
    "i.e. this is a variable in your model that you want to optimize"
   ]
  },
  {
   "cell_type": "code",
   "execution_count": 6,
   "metadata": {},
   "outputs": [
    {
     "name": "stdout",
     "output_type": "stream",
     "text": [
      "torch.Size([2])\n"
     ]
    }
   ],
   "source": [
    "# construct from data\n",
    "x = torch.tensor([5.5, 3])\n",
    "print(x.size())\n",
    "\n",
    "x = torch.tensor([5.5, 3], requires_grad=True)"
   ]
  },
  {
   "cell_type": "markdown",
   "metadata": {},
   "source": [
    "## 3. Addition, Substraction, Multiplication"
   ]
  },
  {
   "cell_type": "markdown",
   "metadata": {},
   "source": [
    "### Addition"
   ]
  },
  {
   "cell_type": "code",
   "execution_count": 7,
   "metadata": {},
   "outputs": [
    {
     "name": "stdout",
     "output_type": "stream",
     "text": [
      "tensor([[0.7381, 0.7646],\n",
      "        [0.7257, 0.2384]])\n",
      "tensor([[0.0997, 0.3840],\n",
      "        [0.2101, 0.1754]])\n",
      "tensor([[0.8378, 1.1487],\n",
      "        [0.9358, 0.4138]])\n",
      "tensor([[0.8378, 1.1487],\n",
      "        [0.9358, 0.4138]])\n"
     ]
    }
   ],
   "source": [
    "x = torch.rand(2,2)\n",
    "y = torch.rand(2,2)\n",
    "print (x)\n",
    "print (y)\n",
    "\n",
    "#z = x + y \n",
    "z = torch.add(x,y) \n",
    "print(z)\n",
    "\n",
    "y.add_(x)   #In place addition operation\n",
    "print(y)"
   ]
  },
  {
   "cell_type": "markdown",
   "metadata": {},
   "source": [
    "### Substraction"
   ]
  },
  {
   "cell_type": "code",
   "execution_count": 8,
   "metadata": {},
   "outputs": [
    {
     "name": "stdout",
     "output_type": "stream",
     "text": [
      "tensor([[0.2096, 0.9651],\n",
      "        [0.2702, 0.7696]])\n",
      "tensor([[0.3535, 0.0347],\n",
      "        [0.9646, 0.6480]])\n",
      "tensor([[-0.1439,  0.9304],\n",
      "        [-0.6944,  0.1216]])\n",
      "tensor([[ 0.1439, -0.9304],\n",
      "        [ 0.6944, -0.1216]])\n"
     ]
    }
   ],
   "source": [
    "x = torch.rand(2,2)\n",
    "y = torch.rand(2,2)\n",
    "print (x)\n",
    "print (y)\n",
    "\n",
    "#z = x + y \n",
    "z = torch.subtract(x,y) \n",
    "print(z)\n",
    "\n",
    "y.subtract_(x)   #In place addition operation\n",
    "print(y)"
   ]
  },
  {
   "cell_type": "markdown",
   "metadata": {},
   "source": [
    "### Multiply"
   ]
  },
  {
   "cell_type": "code",
   "execution_count": 9,
   "metadata": {},
   "outputs": [
    {
     "name": "stdout",
     "output_type": "stream",
     "text": [
      "tensor([[0.4631, 0.0701],\n",
      "        [0.4348, 0.6621]])\n",
      "tensor([[0.2257, 0.4617],\n",
      "        [0.6243, 0.6705]])\n",
      "tensor([[0.1045, 0.0324],\n",
      "        [0.2714, 0.4440]])\n",
      "tensor([[0.1045, 0.0324],\n",
      "        [0.2714, 0.4440]])\n"
     ]
    }
   ],
   "source": [
    "x = torch.rand(2,2)\n",
    "y = torch.rand(2,2)\n",
    "print (x)\n",
    "print (y)\n",
    "\n",
    "#z = x + y \n",
    "z = torch.multiply(x,y) \n",
    "print(z)\n",
    "\n",
    "y.multiply_(x)   #In place addition operation\n",
    "print(y)"
   ]
  },
  {
   "cell_type": "markdown",
   "metadata": {},
   "source": [
    "## 4. Slicing Operation on Tensors"
   ]
  },
  {
   "cell_type": "code",
   "execution_count": 10,
   "metadata": {},
   "outputs": [
    {
     "name": "stdout",
     "output_type": "stream",
     "text": [
      "tensor([[0.9651, 0.2648, 0.0263],\n",
      "        [0.8813, 0.5249, 0.1373],\n",
      "        [0.0572, 0.4364, 0.0129],\n",
      "        [0.8746, 0.6976, 0.2975],\n",
      "        [0.8179, 0.2767, 0.1420]])\n",
      "tensor([0.9651, 0.8813, 0.0572, 0.8746, 0.8179])\n",
      "tensor([0.8813, 0.5249, 0.1373])\n",
      "tensor(0.5249)\n"
     ]
    }
   ],
   "source": [
    "x = torch.rand(5,3)\n",
    "print(x)\n",
    "\n",
    "print(x[:, 0]) # all rows, column 0\n",
    "print(x[1, :]) # row 1, all columns\n",
    "print(x[1,1]) # element at 1, 1"
   ]
  },
  {
   "cell_type": "markdown",
   "metadata": {},
   "source": [
    "Get the actual value if only 1 element in your tensor using *.item()* command."
   ]
  },
  {
   "cell_type": "code",
   "execution_count": 11,
   "metadata": {},
   "outputs": [
    {
     "name": "stdout",
     "output_type": "stream",
     "text": [
      "0.5249464511871338\n"
     ]
    }
   ],
   "source": [
    "print(x[1,1].item())"
   ]
  },
  {
   "cell_type": "markdown",
   "metadata": {},
   "source": [
    "## 5. Reshaping PyTorch Tensors"
   ]
  },
  {
   "cell_type": "markdown",
   "metadata": {},
   "source": [
    "torch.view() can be used for reshaping."
   ]
  },
  {
   "cell_type": "code",
   "execution_count": 12,
   "metadata": {},
   "outputs": [
    {
     "name": "stdout",
     "output_type": "stream",
     "text": [
      "tensor([[0.1426, 0.5695, 0.4975, 0.0301],\n",
      "        [0.0598, 0.4400, 0.4016, 0.3954],\n",
      "        [0.4191, 0.5990, 0.5349, 0.3023],\n",
      "        [0.9416, 0.2607, 0.2962, 0.6273]])\n",
      "torch.Size([8, 2])\n",
      "torch.Size([16])\n"
     ]
    }
   ],
   "source": [
    "x = torch.rand(4,4)\n",
    "print(x)\n",
    "y = x.view(8,2)\n",
    "print(y.size())\n",
    "y = x.view(16)\n",
    "print(y.size())"
   ]
  },
  {
   "cell_type": "code",
   "execution_count": 13,
   "metadata": {},
   "outputs": [
    {
     "name": "stdout",
     "output_type": "stream",
     "text": [
      "torch.Size([2, 8])\n"
     ]
    }
   ],
   "source": [
    "y = x.view(-1,8)    #if -1 pytorch will automatically determine the necessary size\n",
    "print(y.size())"
   ]
  },
  {
   "cell_type": "markdown",
   "metadata": {},
   "source": [
    "## 6. Torch Tensor to Numpy Array"
   ]
  },
  {
   "cell_type": "markdown",
   "metadata": {},
   "source": [
    "b = a.numpy() will convert torch tensor a, to numpy array b"
   ]
  },
  {
   "cell_type": "code",
   "execution_count": 14,
   "metadata": {},
   "outputs": [
    {
     "name": "stdout",
     "output_type": "stream",
     "text": [
      "<class 'torch.Tensor'>\n",
      "tensor([1., 1., 1., 1., 1.])\n",
      "<class 'numpy.ndarray'>\n",
      "[1. 1. 1. 1. 1.]\n"
     ]
    }
   ],
   "source": [
    "import numpy as np\n",
    "\n",
    "a = torch.ones(5)\n",
    "print(type(a))\n",
    "print(a)\n",
    "\n",
    "b = a.numpy()\n",
    "\n",
    "print(type(b))\n",
    "print(b)"
   ]
  },
  {
   "cell_type": "markdown",
   "metadata": {},
   "source": [
    "Carful: If the Tensor is on the CPU (not the GPU), both objects will share the same memory location, so changing one will also change the other"
   ]
  },
  {
   "cell_type": "code",
   "execution_count": 15,
   "metadata": {},
   "outputs": [
    {
     "name": "stdout",
     "output_type": "stream",
     "text": [
      "tensor([2., 2., 2., 2., 2.])\n",
      "[2. 2. 2. 2. 2.]\n"
     ]
    }
   ],
   "source": [
    "a.add_(1)\n",
    "print(a)\n",
    "print(b)"
   ]
  },
  {
   "cell_type": "markdown",
   "metadata": {},
   "source": [
    "b = torch.from_numpy(a) converts a numpy array a, to torch tensor b."
   ]
  },
  {
   "cell_type": "code",
   "execution_count": 24,
   "metadata": {},
   "outputs": [
    {
     "name": "stdout",
     "output_type": "stream",
     "text": [
      "[1. 1. 1. 1. 1.]\n",
      "<class 'numpy.ndarray'>\n",
      "tensor([1., 1., 1., 1., 1.], dtype=torch.float64)\n",
      "<class 'torch.Tensor'>\n",
      "tensor([1., 1., 1., 1., 1.], dtype=torch.float16)\n"
     ]
    }
   ],
   "source": [
    "a = np.ones(5)\n",
    "print(a)\n",
    "print(type(a))\n",
    "\n",
    "b = torch.from_numpy(a)\n",
    "c = torch.from_numpy(a.astype(np.float16))\n",
    "\n",
    "print(b)\n",
    "print(type(b))\n",
    "print(c)"
   ]
  },
  {
   "cell_type": "markdown",
   "metadata": {},
   "source": [
    "Carful: If the Tensor is on the CPU (not the GPU), both objects will share the same memory location, so changing one will also change the other"
   ]
  },
  {
   "cell_type": "code",
   "execution_count": 17,
   "metadata": {},
   "outputs": [
    {
     "name": "stdout",
     "output_type": "stream",
     "text": [
      "[2. 2. 2. 2. 2.]\n",
      "tensor([2., 2., 2., 2., 2.], dtype=torch.float64)\n"
     ]
    }
   ],
   "source": [
    "a += 1\n",
    "print(a)\n",
    "print(b)"
   ]
  },
  {
   "cell_type": "markdown",
   "metadata": {},
   "source": [
    "## 7. Sending a Torch Tensor to GPU and Moving a Tensor back to CPU"
   ]
  },
  {
   "cell_type": "markdown",
   "metadata": {},
   "source": [
    "Works only for Nvidea GPUs"
   ]
  },
  {
   "cell_type": "code",
   "execution_count": 18,
   "metadata": {},
   "outputs": [],
   "source": [
    "if torch.cuda.is_available():\n",
    "    device = torch.device(\"cuda\")\n",
    "\n",
    "    x = torch.ones(5, device=device)    #Creating a tensor on GPU\n",
    "    print(x)\n",
    "    y = torch.ones_like(x)  #This creates a tensor of shape like x.\n",
    "    y = y.to(device)        #Creating a tensor and moving to GPU later.\n",
    "    print(y)\n",
    "    z = x + y   #Will be performed on GPU\n",
    "    print(z)\n",
    "    #z.numpy() #Should give an error since numpy cannot handle GPU sensors.\n",
    "    z = z.to(\"cpu\")\n"
   ]
  },
  {
   "cell_type": "markdown",
   "metadata": {},
   "source": [
    "Converted to Apple Metal Performance Shredder"
   ]
  },
  {
   "cell_type": "code",
   "execution_count": 19,
   "metadata": {},
   "outputs": [
    {
     "name": "stdout",
     "output_type": "stream",
     "text": [
      "tensor([1., 1., 1., 1., 1.], device='mps:0')\n",
      "tensor([1., 1., 1., 1., 1.], device='mps:0')\n",
      "tensor([2., 2., 2., 2., 2.], device='mps:0')\n"
     ]
    }
   ],
   "source": [
    "if torch.backends.mps.is_available():\n",
    "    device = torch.device(\"mps\")\n",
    "    \n",
    "    x = torch.ones(5, device=device)    #Creating a tensor on GPU\n",
    "    print(x)\n",
    "    y = torch.ones_like(x)  #This creates a tensor of shape like x.\n",
    "    y = y.to(device)        #Creating a tensor and moving to GPU later.\n",
    "    print(y)\n",
    "    z = x + y   #Will be performed on GPU\n",
    "    print(z)\n",
    "    #.numpy() #Should give an error since numpy cannot handle GPU sensors.\n",
    "    z = z.to(\"cpu\")"
   ]
  },
  {
   "cell_type": "markdown",
   "metadata": {},
   "source": [
    "TypeError: can't convert mps:0 device type tensor to numpy. Use Tensor.cpu() to copy the tensor to host memory first.\n",
    "\n",
    "This error will arise if you try to convert an \"mps\" tensor to numpy."
   ]
  }
 ],
 "metadata": {
  "kernelspec": {
   "display_name": "torch",
   "language": "python",
   "name": "python3"
  },
  "language_info": {
   "codemirror_mode": {
    "name": "ipython",
    "version": 3
   },
   "file_extension": ".py",
   "mimetype": "text/x-python",
   "name": "python",
   "nbconvert_exporter": "python",
   "pygments_lexer": "ipython3",
   "version": "3.9.15"
  }
 },
 "nbformat": 4,
 "nbformat_minor": 2
}
