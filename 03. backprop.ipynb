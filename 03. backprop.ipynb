{
 "cells": [
  {
   "cell_type": "markdown",
   "metadata": {},
   "source": [
    "# 03. Backpropagation"
   ]
  },
  {
   "cell_type": "code",
   "execution_count": null,
   "metadata": {},
   "outputs": [],
   "source": [
    "import torch"
   ]
  },
  {
   "cell_type": "markdown",
   "metadata": {},
   "source": [
    "- This Notebooks Goes Through the Steps in Training Loop. (Step 1 should be done before a general training loop.)\n",
    "\n",
    "## 1. Intializing The Weights\n",
    "\n",
    "<img src=\"/Users/yohanabeysinghe/Mac/Codes/ML/Projects/Pytorch/images/image2.png\" alt=\"image\" width=\"900\"> "
   ]
  },
  {
   "cell_type": "code",
   "execution_count": null,
   "metadata": {},
   "outputs": [],
   "source": [
    "# These are the parameter we want to optimize -> requires_grad=True\n",
    "w1 = torch.tensor(0.1, requires_grad=True)\n",
    "w2 = torch.tensor(0.2, requires_grad=True)"
   ]
  },
  {
   "cell_type": "markdown",
   "metadata": {},
   "source": [
    "## 2. Forward Pass\n",
    "\n",
    "<img src=\"/Users/yohanabeysinghe/Mac/Codes/ML/Projects/Pytorch/images/image3.png\" alt=\"image\" width=\"900\"> "
   ]
  },
  {
   "cell_type": "code",
   "execution_count": null,
   "metadata": {},
   "outputs": [],
   "source": [
    "x1 = torch.tensor(10.5)\n",
    "x2 = torch.tensor(12)\n",
    "t = 33      #target\n",
    "\n",
    "a = x1*w1\n",
    "b = x2*w2\n",
    "c = a+b\n",
    "y = torch.exp(c)        #prediction\n",
    "\n",
    "print(a, b, c, y)"
   ]
  },
  {
   "cell_type": "markdown",
   "metadata": {},
   "source": [
    "## 3. Error Calculation\n",
    "\n",
    "<img src=\"/Users/yohanabeysinghe/Mac/Codes/ML/Projects/Pytorch/images/image4.png\" alt=\"image\" width=\"900\"> "
   ]
  },
  {
   "cell_type": "code",
   "execution_count": null,
   "metadata": {},
   "outputs": [],
   "source": [
    "E = (y-t)**2\n",
    "print(E)"
   ]
  },
  {
   "cell_type": "markdown",
   "metadata": {},
   "source": [
    "## 4. Calculate Local Gradients/ Backward Pass\n",
    "\n",
    "<img src=\"/Users/yohanabeysinghe/Mac/Codes/ML/Projects/Pytorch/images/image5.png\" alt=\"image\" width=\"900\"> "
   ]
  },
  {
   "cell_type": "code",
   "execution_count": null,
   "metadata": {},
   "outputs": [],
   "source": [
    "# backward pass to compute gradient dLoss/dw\n",
    "# Local gradients are automatically calculated using .backward() and they are accumilated to .grad attribute.\n",
    "E.backward()\n",
    "print(w1.grad)\n",
    "print(w2.grad)"
   ]
  },
  {
   "cell_type": "markdown",
   "metadata": {},
   "source": [
    "## 5. Weight Update\n",
    "<img src=\"/Users/yohanabeysinghe/Mac/Codes/ML/Projects/Pytorch/images/image6.png\" alt=\"image\" width=\"900\"> "
   ]
  },
  {
   "cell_type": "markdown",
   "metadata": {},
   "source": [
    "Updating weights should not be tracked using <code>autograd</code>"
   ]
  },
  {
   "cell_type": "code",
   "execution_count": null,
   "metadata": {},
   "outputs": [],
   "source": [
    "alpha = 0.001 #Learning rate\n",
    "\n",
    "with torch.no_grad():\n",
    "    w1 -= alpha*w1.grad\n",
    "    w2 -= alpha*w2.grad\n",
    "\n",
    "print(w1, w2)"
   ]
  },
  {
   "cell_type": "markdown",
   "metadata": {},
   "source": [
    "Before the next iteration the .grad accumilation should be cleared out."
   ]
  },
  {
   "cell_type": "code",
   "execution_count": null,
   "metadata": {},
   "outputs": [],
   "source": [
    "w1.grad.zero_()\n",
    "w2.grad.zero_()"
   ]
  }
 ],
 "metadata": {
  "kernelspec": {
   "display_name": "Python 3.9 (pytorch)",
   "language": "python",
   "name": "pytorch"
  },
  "language_info": {
   "codemirror_mode": {
    "name": "ipython",
    "version": 3
   },
   "file_extension": ".py",
   "mimetype": "text/x-python",
   "name": "python",
   "nbconvert_exporter": "python",
   "pygments_lexer": "ipython3",
   "version": "3.9.15"
  }
 },
 "nbformat": 4,
 "nbformat_minor": 2
}
