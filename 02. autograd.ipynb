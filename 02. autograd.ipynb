{
 "cells": [
  {
   "cell_type": "code",
   "execution_count": 51,
   "metadata": {},
   "outputs": [],
   "source": [
    "import torch"
   ]
  },
  {
   "cell_type": "markdown",
   "metadata": {},
   "source": [
    "## 1. Theory Behing Multivariate Calculus Backprop"
   ]
  },
  {
   "cell_type": "markdown",
   "metadata": {},
   "source": [
    "<div style=\"text-align:center;\">\n",
    "<span style=\"font-size:30px;\">Chain Rule</span>\n",
    "</div>\n",
    " \n",
    "- This is required to do the back propagation. \n",
    "\n",
    "- <code>Differenciations = Partial Differenciations(Jacobian Matrix) X Gradient Vector</code>\n",
    "\n",
    "<img src=\"/Users/yohanabeysinghe/Mac/Codes/ML/Projects/Pytorch/images/image1.png\" alt=\"image\" width=\"500\"> \n",
    "   \n",
    "      "
   ]
  },
  {
   "cell_type": "markdown",
   "metadata": {},
   "source": [
    "## 2. requires_grad  .backward() and .grad\n",
    "\n",
    "- The autograd package provides automatic differentiation for all operations on Tensors. This calculates the Jacobian X Vector product.\n",
    "\n",
    "- requires_grad = True -----> tracks all operations on the tensor.   \n",
    "\n",
    "- .backward() -----> get all the gradients computed automatically at the end.\n",
    "\n",
    "- .grad -----> the gradient of the partial derivate w.r.t. the tensor are accumilated to this attribute"
   ]
  },
  {
   "cell_type": "code",
   "execution_count": 52,
   "metadata": {},
   "outputs": [
    {
     "name": "stdout",
     "output_type": "stream",
     "text": [
      "tensor([-0.1959,  0.0264,  0.3840], requires_grad=True)\n",
      "tensor([1.8041, 2.0264, 2.3840], grad_fn=<AddBackward0>)\n",
      "tensor([ 9.7643, 12.3191, 17.0509], grad_fn=<MulBackward0>)\n",
      "tensor(13.0448, grad_fn=<MeanBackward0>)\n",
      "tensor([3.6082, 4.0528, 4.7681])\n"
     ]
    }
   ],
   "source": [
    "x = torch.randn(3, requires_grad=True)\n",
    "print(x)\n",
    "\n",
    "y=x+2\n",
    "print(y)\n",
    "\n",
    "a = y*y*3\n",
    "print(a)\n",
    "\n",
    "b = a.mean()\n",
    "print(b)\n",
    "\n",
    "b.backward()\n",
    "print(x.grad)"
   ]
  },
  {
   "cell_type": "markdown",
   "metadata": {},
   "source": [
    "- If requres_grad is not given as True, we get the following error.  \n",
    "\n",
    "- RuntimeError: element 0 of tensors does not require grad and does not have a grad_fn"
   ]
  },
  {
   "cell_type": "code",
   "execution_count": null,
   "metadata": {},
   "outputs": [],
   "source": [
    "x = torch.randn(3)\n",
    "print(x)\n",
    "\n",
    "y=x+2\n",
    "print(y)\n",
    "\n",
    "a = y*y*3\n",
    "print(a)\n",
    "\n",
    "b = a.mean()\n",
    "print(b)\n",
    "\n",
    "b.backward()\n",
    "print(x.grad)"
   ]
  },
  {
   "cell_type": "markdown",
   "metadata": {},
   "source": [
    "- grad_fn: references a Function that has created the Tensor"
   ]
  },
  {
   "cell_type": "markdown",
   "metadata": {},
   "source": [
    "## 3. Backprop for Non Scalar Tensor Outputs"
   ]
  },
  {
   "cell_type": "markdown",
   "metadata": {},
   "source": [
    "- If we have more than one output in the final tensor we will get the following error.\n",
    "\n",
    "- RuntimeError: grad can be implicitly created only for scalar outputs"
   ]
  },
  {
   "cell_type": "code",
   "execution_count": null,
   "metadata": {},
   "outputs": [],
   "source": [
    "x = torch.randn(3, requires_grad=True)\n",
    "print(x)\n",
    "\n",
    "y=x+2\n",
    "print(y)\n",
    "\n",
    "a = y*y*3\n",
    "print(a)\n",
    "\n",
    "a.backward()\n",
    "print(x.grad)"
   ]
  },
  {
   "cell_type": "markdown",
   "metadata": {},
   "source": [
    "- Reason - For models with non-scalar product, the the <code>derivative = Jacobian x Vector</code> , a vector of same length as the input should be given as an argument."
   ]
  },
  {
   "cell_type": "code",
   "execution_count": null,
   "metadata": {},
   "outputs": [],
   "source": [
    "x = torch.randn(3, requires_grad=True)\n",
    "print(x)\n",
    "\n",
    "# y=x+2\n",
    "# print(y)\n",
    "\n",
    "# a = y*y*3\n",
    "# print(a)\n",
    "\n",
    "a = x * 2\n",
    "for _ in range(10):\n",
    "    a = a * 2\n",
    "\n",
    "print(a)\n",
    "print(a.shape)\n",
    "\n",
    "v = torch.tensor([0.1, 1.0, 0.0001], dtype=torch.float32)   #Externally given vector for \n",
    "#vector, Jacobian product.\n",
    "\n",
    "a.backward(v)   # Passed as an attribute.\n",
    "print(x.grad)"
   ]
  },
  {
   "cell_type": "markdown",
   "metadata": {},
   "source": [
    "## 4. Stopping a Tensor From Tracking History\n",
    "\n",
    "### 4.1. .requires_grad_()  \n",
    "Changes an existing flag in-place."
   ]
  },
  {
   "cell_type": "code",
   "execution_count": null,
   "metadata": {},
   "outputs": [],
   "source": [
    "a = torch.randn(2, 2)\n",
    "print(a.requires_grad)  #.requires_grad outputs if this element is being tracked.\n",
    "print(a.grad_fn)  #.grad_fn shows which backward function is occuring\n",
    "\n",
    "b = ((a * 3) / (a - 1))\n",
    "print(a.requires_grad)\n",
    "print(b.grad_fn)  \n",
    "\n",
    "a.requires_grad_(True)  #.requires_grad_() Turning the variable into a tracked tensor in place.\n",
    "print(a.requires_grad)\n",
    "print(a.grad_fn)        # But still .grad_fn() does not have any tracked functions yet."
   ]
  },
  {
   "cell_type": "code",
   "execution_count": null,
   "metadata": {},
   "outputs": [],
   "source": [
    "x = torch.randn(3, requires_grad=True)\n",
    "print(x)\n",
    "\n",
    "x.requires_grad_(False) #Trailing underscores modify the variable in place.\n",
    "print(x)"
   ]
  },
  {
   "cell_type": "markdown",
   "metadata": {},
   "source": [
    "### 4.2. .detach()  \n",
    "Get a new Tensor with the same content but no gradient computation:"
   ]
  },
  {
   "cell_type": "code",
   "execution_count": null,
   "metadata": {},
   "outputs": [],
   "source": [
    "x = torch.randn(3, requires_grad=True)\n",
    "print(x)\n",
    "\n",
    "y = x.detach()\n",
    "print(y)"
   ]
  },
  {
   "cell_type": "markdown",
   "metadata": {},
   "source": [
    "### 4.3. torch.no_grad()"
   ]
  },
  {
   "cell_type": "code",
   "execution_count": null,
   "metadata": {},
   "outputs": [
    {
     "name": "stdout",
     "output_type": "stream",
     "text": [
      "tensor([-0.0011,  0.1541,  0.1616], requires_grad=True)\n",
      "tensor([1.9989, 2.1541, 2.1616])\n",
      "tensor([1.9989, 2.1541, 2.1616], grad_fn=<AddBackward0>)\n"
     ]
    }
   ],
   "source": [
    "x = torch.randn(3, requires_grad=True)\n",
    "print(x)\n",
    "\n",
    "with torch.no_grad():\n",
    "    y = x+2\n",
    "    print(y)\n",
    "\n",
    "z = x+2\n",
    "print(z)"
   ]
  },
  {
   "cell_type": "markdown",
   "metadata": {},
   "source": [
    "## 5. Avoiding The Accumilation Error of Gradients  \n",
    "\n",
    "### 5.1. .grad.zero_() "
   ]
  },
  {
   "cell_type": "markdown",
   "metadata": {},
   "source": [
    "- backward() accumulates the gradient for this tensor into .grad attribute. This migh accumilate them unnessarily.\n",
    "\n",
    "- Use .zero_() to empty the gradients before a new optimization step!"
   ]
  },
  {
   "cell_type": "code",
   "execution_count": null,
   "metadata": {},
   "outputs": [
    {
     "name": "stdout",
     "output_type": "stream",
     "text": [
      "tensor([1., 1., 1., 1.], requires_grad=True)\n",
      "tensor([3., 3., 3., 3.])\n",
      "tensor([6., 6., 6., 6.])\n",
      "tensor([9., 9., 9., 9.])\n",
      "tensor([12., 12., 12., 12.])\n",
      "tensor([15., 15., 15., 15.])\n",
      "tensor([18., 18., 18., 18.])\n",
      "tensor([21., 21., 21., 21.])\n",
      "tensor([24., 24., 24., 24.])\n"
     ]
    }
   ],
   "source": [
    "weights = torch.ones(4, requires_grad=True)\n",
    "print(weights)\n",
    "\n",
    "for epoch in range(8):\n",
    "    model_output = (weights*3).sum()\n",
    "    model_output.backward()\n",
    "    print(weights.grad)"
   ]
  },
  {
   "cell_type": "code",
   "execution_count": null,
   "metadata": {},
   "outputs": [
    {
     "name": "stdout",
     "output_type": "stream",
     "text": [
      "tensor([1., 1., 1., 1.], requires_grad=True)\n",
      "tensor([3., 3., 3., 3.])\n",
      "tensor([3., 3., 3., 3.])\n"
     ]
    }
   ],
   "source": [
    "weights = torch.ones(4, requires_grad=True)\n",
    "print(weights)\n",
    "\n",
    "for epoch in range(2):\n",
    "    model_output = (weights*3).sum()\n",
    "    model_output.backward()\n",
    "    print(weights.grad)\n",
    "    weights.grad.zero_()"
   ]
  },
  {
   "cell_type": "markdown",
   "metadata": {},
   "source": [
    "### 5.2. by optimizer.zero_grad()"
   ]
  },
  {
   "cell_type": "code",
   "execution_count": null,
   "metadata": {},
   "outputs": [],
   "source": [
    "weights = torch.ones(4, requires_grad=True)\n",
    "print(weights)\n",
    "optimizer = torch.optim.SGD(weights, lr=0.01)\n",
    "\n",
    "# During training\n",
    "optimizer.step()\n",
    "optimizer.zero_grad()"
   ]
  }
 ],
 "metadata": {
  "kernelspec": {
   "display_name": "Python 3.9 (pytorch)",
   "language": "python",
   "name": "pytorch"
  },
  "language_info": {
   "codemirror_mode": {
    "name": "ipython",
    "version": 3
   },
   "file_extension": ".py",
   "mimetype": "text/x-python",
   "name": "python",
   "nbconvert_exporter": "python",
   "pygments_lexer": "ipython3",
   "version": "3.9.15"
  }
 },
 "nbformat": 4,
 "nbformat_minor": 2
}
