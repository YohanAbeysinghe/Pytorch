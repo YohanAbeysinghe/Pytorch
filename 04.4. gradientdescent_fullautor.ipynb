{
 "cells": [
  {
   "cell_type": "markdown",
   "metadata": {},
   "source": [
    "# 04.4. Gradient Descent Full Auto\n",
    "\n",
    "<div style=\"text-align:center;\">\n",
    "    <img src=\"/Users/yohanabeysinghe/Mac/Codes/ML/Projects/Pytorch/images/image10.png\" alt=\"image\" style=\"width:500px;\">\n",
    "</div>"
   ]
  },
  {
   "cell_type": "code",
   "execution_count": 11,
   "metadata": {},
   "outputs": [],
   "source": [
    "import torch\n",
    "import torch.nn as nn"
   ]
  },
  {
   "cell_type": "markdown",
   "metadata": {},
   "source": [
    "## 1. Initializing the Weights"
   ]
  },
  {
   "cell_type": "markdown",
   "metadata": {},
   "source": [
    "Now the weight intialization is not needed. Just use nn.Linear to define the model and then weights gets initialized automatically."
   ]
  },
  {
   "cell_type": "markdown",
   "metadata": {},
   "source": [
    "## 2. Forward Pass ---> Defining the Model"
   ]
  },
  {
   "cell_type": "markdown",
   "metadata": {},
   "source": [
    "- X and Y values are selected, so that the learned function should be <code>y=2x</code>. So the learned w should be 2 at the end.\n",
    "- Model will be defined using nn.Linear() and a forward function will not be needed.\n",
    "\n",
    "<div style=\"text-align:center;\">\n",
    "    <img src=\"/Users/yohanabeysinghe/Mac/Codes/ML/Projects/Pytorch/images/image11.png\" alt=\"image\" style=\"width:150px;\">\n",
    "</div>"
   ]
  },
  {
   "cell_type": "code",
   "execution_count": 12,
   "metadata": {},
   "outputs": [
    {
     "name": "stdout",
     "output_type": "stream",
     "text": [
      "4 1\n"
     ]
    }
   ],
   "source": [
    "X = torch.tensor([[1], [2], [3], [4]], dtype=torch.float32)\n",
    "T = torch.tensor([[2], [4], [6], [8]], dtype=torch.float32)\n",
    "\n",
    "x_test = torch.tensor([5], dtype=torch.float32)\n",
    "\n",
    "n_samples, n_features = X.shape\n",
    "print(n_samples, n_features)\n",
    "\n",
    "#Defining the model\n",
    "input_size = n_features\n",
    "output_size = n_features\n",
    "\n",
    "model = nn.Linear(input_size, output_size)"
   ]
  },
  {
   "cell_type": "markdown",
   "metadata": {},
   "source": [
    "## 3. Error Calculation"
   ]
  },
  {
   "cell_type": "markdown",
   "metadata": {},
   "source": [
    "<div style=\"text-align:center;\">\n",
    "    <img src=\"/Users/yohanabeysinghe/Mac/Codes/ML/Projects/Pytorch/images/image12.png\" alt=\"image\" style=\"width:300px;\">\n",
    "</div>\n",
    "\n",
    "- A seperate function is not needed for manually defining the loss. Use torch.nn"
   ]
  },
  {
   "cell_type": "code",
   "execution_count": 13,
   "metadata": {},
   "outputs": [],
   "source": [
    "Error = nn.MSELoss()"
   ]
  },
  {
   "cell_type": "markdown",
   "metadata": {},
   "source": [
    "## 4. Backward Pass"
   ]
  },
  {
   "cell_type": "markdown",
   "metadata": {},
   "source": [
    "<div style=\"text-align:center;\">\n",
    "    <img src=\"/Users/yohanabeysinghe/Mac/Codes/ML/Projects/Pytorch/images/image13.png\" alt=\"image\" style=\"width:600px;\">\n",
    "</div>\n",
    "\n",
    "- A seperate equation is not needed for the backward pass. Simply take them using .backward and .grad()."
   ]
  },
  {
   "cell_type": "markdown",
   "metadata": {},
   "source": [
    "## 5. Training Loop and Weight Update"
   ]
  },
  {
   "cell_type": "markdown",
   "metadata": {},
   "source": [
    "### Now the weight updates are not done manually. Use torch.optim.SGD() optimizer."
   ]
  },
  {
   "cell_type": "code",
   "execution_count": 14,
   "metadata": {},
   "outputs": [
    {
     "name": "stdout",
     "output_type": "stream",
     "text": [
      "Prediction before training: f(5) = -3.336\n"
     ]
    }
   ],
   "source": [
    "print(f'Prediction before training: f(5) = {model(x_test).item():.3f}')\n",
    "\n",
    "learning_rate = 0.01 #Increase this and you can see gradient explosion.\n",
    "n_iters = 50\n",
    "\n",
    "optimizer = torch.optim.SGD(model.parameters(), lr=learning_rate)"
   ]
  },
  {
   "cell_type": "markdown",
   "metadata": {},
   "source": [
    "For each epoch, \n",
    "- Forward Pass - all 4 training pairs go in the forward pass in a vectorized manner.\n",
    "- The loss function is calculated\n",
    "- Backward Pass - Then they backpropagate using differenciation.\n",
    "- Weights are updated.\n",
    "- These weights and calculated loss is inspected by printing them.\n",
    "\n",
    "Finally updated weights are used for calculating the y value for new x.\n",
    "\n",
    "Same input pair (x,t) has been used n_iters times to learn from it."
   ]
  },
  {
   "cell_type": "code",
   "execution_count": 15,
   "metadata": {},
   "outputs": [
    {
     "name": "stdout",
     "output_type": "stream",
     "text": [
      "epoch 1: w = -0.408, loss = 50.05505371\n",
      "epoch 5: w = 0.595, loss = 11.85680199\n",
      "epoch 9: w = 1.081, loss = 2.99600768\n",
      "epoch 13: w = 1.318, loss = 0.93610978\n",
      "epoch 17: w = 1.435, loss = 0.45287609\n",
      "epoch 21: w = 1.494, loss = 0.33526650\n",
      "epoch 25: w = 1.525, loss = 0.30254495\n",
      "epoch 29: w = 1.543, loss = 0.28963116\n",
      "epoch 33: w = 1.555, loss = 0.28143507\n",
      "epoch 37: w = 1.563, loss = 0.27445585\n",
      "epoch 41: w = 1.569, loss = 0.26787919\n",
      "epoch 45: w = 1.575, loss = 0.26151356\n",
      "epoch 49: w = 1.580, loss = 0.25531137\n",
      "Prediction before training: f(5) = 9.138\n"
     ]
    }
   ],
   "source": [
    "for epoch in range(n_iters):\n",
    "    # predict = forward pass\n",
    "    Y = model(X)\n",
    "\n",
    "    # loss is done using torch.MOSE\n",
    "    E = Error(T, Y)\n",
    "    \n",
    "    # Backward pass is done automatically now.\n",
    "    E.backward()\n",
    "\n",
    "    # Weight update is done automatically using optimizer. No need to wrap things in \n",
    "    # torch.no_grad()\n",
    "    optimizer.step()\n",
    "\n",
    "    # The w.grad where the gradients are accumilated should be turned zero before next iteration.\n",
    "    optimizer.zero_grad()\n",
    "\n",
    "    if epoch % 4 == 0:\n",
    "        [w, b] = model.parameters()\n",
    "        print(f'epoch {epoch+1}: w = {w[0][0].item():.3f}, loss = {E:.8f}')\n",
    "     \n",
    "print(f'Prediction before training: f(5) = {model(x_test).item():.3f}')"
   ]
  }
 ],
 "metadata": {
  "kernelspec": {
   "display_name": "Python 3.9 (pytorch)",
   "language": "python",
   "name": "pytorch"
  },
  "language_info": {
   "codemirror_mode": {
    "name": "ipython",
    "version": 3
   },
   "file_extension": ".py",
   "mimetype": "text/x-python",
   "name": "python",
   "nbconvert_exporter": "python",
   "pygments_lexer": "ipython3",
   "version": "3.9.15"
  }
 },
 "nbformat": 4,
 "nbformat_minor": 2
}
