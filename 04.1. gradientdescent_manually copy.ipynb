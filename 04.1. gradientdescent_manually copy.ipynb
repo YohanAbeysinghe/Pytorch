{
 "cells": [
  {
   "cell_type": "markdown",
   "metadata": {},
   "source": [
    "# 04.1. Gradient Descent Manually"
   ]
  },
  {
   "cell_type": "markdown",
   "metadata": {},
   "source": [
    "<div style=\"text-align:center;\">\n",
    "    <img src=\"/Users/yohanabeysinghe/Mac/Codes/ML/Projects/Pytorch/images/image7.png\" alt=\"image\" style=\"width:500px;\">\n",
    "</div>\n",
    "\n",
    "- Everything is done from scratch using numpy only."
   ]
  },
  {
   "cell_type": "code",
   "execution_count": 17,
   "metadata": {},
   "outputs": [],
   "source": [
    "import numpy as np"
   ]
  },
  {
   "cell_type": "markdown",
   "metadata": {},
   "source": [
    "## 1. Initializing the Weights"
   ]
  },
  {
   "cell_type": "code",
   "execution_count": 18,
   "metadata": {},
   "outputs": [],
   "source": [
    "w = 0.0"
   ]
  },
  {
   "cell_type": "markdown",
   "metadata": {},
   "source": [
    "## 2. Forward Pass"
   ]
  },
  {
   "cell_type": "markdown",
   "metadata": {},
   "source": [
    "X and Y values are selected, so that the learned function should be <code>y=2x</code>. So the learned w should be 2 at the end.\n",
    "\n",
    "<div style=\"text-align:center;\">\n",
    "    <img src=\"/Users/yohanabeysinghe/Mac/Codes/ML/Projects/Pytorch/images/image11.png\" alt=\"image\" style=\"width:150px;\">\n",
    "</div>"
   ]
  },
  {
   "cell_type": "code",
   "execution_count": 19,
   "metadata": {},
   "outputs": [],
   "source": [
    "X = np.array([1, 2, 3, 4], dtype=np.float32)\n",
    "T = np.array([2, 4, 6, 8], dtype=np.float32)"
   ]
  },
  {
   "cell_type": "code",
   "execution_count": 20,
   "metadata": {},
   "outputs": [],
   "source": [
    "def forward(x):\n",
    "    return w*x"
   ]
  },
  {
   "cell_type": "markdown",
   "metadata": {},
   "source": [
    "## 3. Error Calculation"
   ]
  },
  {
   "cell_type": "markdown",
   "metadata": {},
   "source": [
    "<div style=\"text-align:center;\">\n",
    "    <img src=\"/Users/yohanabeysinghe/Mac/Codes/ML/Projects/Pytorch/images/image12.png\" alt=\"image\" style=\"width:300px;\">\n",
    "</div>\n"
   ]
  },
  {
   "cell_type": "code",
   "execution_count": 21,
   "metadata": {},
   "outputs": [],
   "source": [
    "def loss(y, t): #y=prediction, t=target.\n",
    "    return ((y-t)**2).mean()"
   ]
  },
  {
   "cell_type": "markdown",
   "metadata": {},
   "source": [
    "## 4. Backward Pass"
   ]
  },
  {
   "cell_type": "markdown",
   "metadata": {},
   "source": [
    "<div style=\"text-align:center;\">\n",
    "    <img src=\"/Users/yohanabeysinghe/Mac/Codes/ML/Projects/Pytorch/images/image13.png\" alt=\"image\" style=\"width:600px;\">\n",
    "</div>\n"
   ]
  },
  {
   "cell_type": "code",
   "execution_count": 22,
   "metadata": {},
   "outputs": [],
   "source": [
    "def gradient(x, t, y):\n",
    "    return np.mean(2*x*(y - t))"
   ]
  },
  {
   "cell_type": "markdown",
   "metadata": {},
   "source": [
    "## 5. Training Loop and Weight Update"
   ]
  },
  {
   "cell_type": "code",
   "execution_count": 23,
   "metadata": {},
   "outputs": [
    {
     "name": "stdout",
     "output_type": "stream",
     "text": [
      "Prediction before training: f(5) = 0.000\n"
     ]
    }
   ],
   "source": [
    "print(f'Prediction before training: f(5) = {forward(5):.3f}')\n",
    "\n",
    "learning_rate = 0.01 #Increase this and you can see gradient explosion.\n",
    "n_iters = 50"
   ]
  },
  {
   "cell_type": "markdown",
   "metadata": {},
   "source": [
    "For each epoch, \n",
    "- Forward Pass - all 4 training pairs go in the forward pass in a vectorized manner.\n",
    "- The loss function is calculated\n",
    "- Backward Pass - Then they backpropagate using differenciation.\n",
    "- Weights are updated.\n",
    "- These weights and calculated loss is inspected by printing them.\n",
    "\n",
    "Finally updated weights are used for calculating the y value for new x.\n",
    "\n",
    "Same input pair (x,t) has been used n_iters times to learn from it."
   ]
  },
  {
   "cell_type": "code",
   "execution_count": 24,
   "metadata": {},
   "outputs": [
    {
     "name": "stdout",
     "output_type": "stream",
     "text": [
      "epoch 1: w = 0.300, loss = 30.00000000\n",
      "epoch 5: w = 1.113, loss = 8.17471600\n",
      "epoch 9: w = 1.537, loss = 2.22753215\n",
      "epoch 13: w = 1.758, loss = 0.60698175\n",
      "epoch 17: w = 1.874, loss = 0.16539653\n",
      "epoch 21: w = 1.934, loss = 0.04506905\n",
      "epoch 25: w = 1.966, loss = 0.01228092\n",
      "epoch 29: w = 1.982, loss = 0.00334642\n",
      "epoch 33: w = 1.991, loss = 0.00091188\n",
      "epoch 37: w = 1.995, loss = 0.00024848\n",
      "epoch 41: w = 1.997, loss = 0.00006770\n",
      "epoch 45: w = 1.999, loss = 0.00001845\n",
      "epoch 49: w = 1.999, loss = 0.00000503\n",
      "Prediction after training: f(5) = 9.997\n"
     ]
    }
   ],
   "source": [
    "for epoch in range(n_iters):\n",
    "    # predict = forward pass\n",
    "    Y = forward(X)\n",
    "\n",
    "    # loss\n",
    "    E = loss(T, Y)\n",
    "    \n",
    "    # calculate gradients\n",
    "    dw = gradient(X, T, Y)\n",
    "\n",
    "    # update weights\n",
    "    w -= learning_rate * dw\n",
    "\n",
    "    if epoch % 4 == 0:\n",
    "        print(f'epoch {epoch+1}: w = {w:.3f}, loss = {E:.8f}')\n",
    "     \n",
    "print(f'Prediction after training: f(5) = {forward(5):.3f}')"
   ]
  }
 ],
 "metadata": {
  "kernelspec": {
   "display_name": "Python 3.9 (pytorch)",
   "language": "python",
   "name": "pytorch"
  },
  "language_info": {
   "codemirror_mode": {
    "name": "ipython",
    "version": 3
   },
   "file_extension": ".py",
   "mimetype": "text/x-python",
   "name": "python",
   "nbconvert_exporter": "python",
   "pygments_lexer": "ipython3",
   "version": "3.9.15"
  }
 },
 "nbformat": 4,
 "nbformat_minor": 2
}
